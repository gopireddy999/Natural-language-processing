{
 "cells": [
  {
   "cell_type": "code",
   "execution_count": 9,
   "id": "84f611f2",
   "metadata": {
    "scrolled": true
   },
   "outputs": [
    {
     "name": "stderr",
     "output_type": "stream",
     "text": [
      "No model was supplied, defaulted to distilbert-base-uncased-finetuned-sst-2-english and revision af0f99b (https://huggingface.co/distilbert-base-uncased-finetuned-sst-2-english).\n",
      "Using a pipeline without specifying a model name and revision in production is not recommended.\n"
     ]
    },
    {
     "name": "stdout",
     "output_type": "stream",
     "text": [
      "New Review: The experience was delightful, and the staff were accommodating.\n",
      "Predicted Sentiment: POSITIVE Confidence: 1.0\n"
     ]
    }
   ],
   "source": [
    "from transformers import pipeline\n",
    "\n",
    "# Load pre-trained sentiment analysis model\n",
    "analyze_sentiment = pipeline(\"sentiment-analysis\")\n",
    "\n",
    "# Few-shot labeled examples to guide the model\n",
    "example_prompt = \"\"\"\n",
    "Here are examples of sentiment classification:\n",
    "1. Review: \"The product quality is outstanding, and delivery was prompt.\"\n",
    "   Sentiment: Positive\n",
    "2. Review: \"The customer service was unhelpful, and my issue remains unresolved.\"\n",
    "   Sentiment: Negative\n",
    "3. Review: \"The food was decent, but the waiting time was too long.\"\n",
    "   Sentiment: Neutral\n",
    "\"\"\"\n",
    "\n",
    "# New review for analysis\n",
    "new_review = \"The experience was delightful, and the staff were accommodating.\"\n",
    "\n",
    "# Perform sentiment analysis on the new review\n",
    "response = analyze_sentiment(new_review)\n",
    "\n",
    "# Output the result\n",
    "print(\"New Review:\", new_review)\n",
    "print(\"Predicted Sentiment:\", response[0]['label'], \"Confidence:\", round(response[0]['score'], 2))\n"
   ]
  },
  {
   "cell_type": "code",
   "execution_count": 11,
   "id": "e1f2a81f",
   "metadata": {},
   "outputs": [
    {
     "name": "stderr",
     "output_type": "stream",
     "text": [
      "No model was supplied, defaulted to sshleifer/distilbart-cnn-12-6 and revision a4f8f3e (https://huggingface.co/sshleifer/distilbart-cnn-12-6).\n",
      "Using a pipeline without specifying a model name and revision in production is not recommended.\n",
      "Your max_length is set to 50, but your input_length is only 40. Since this is a summarization task, where outputs shorter than the input are typically wanted, you might consider decreasing max_length manually, e.g. summarizer('...', max_length=20)\n"
     ]
    },
    {
     "name": "stdout",
     "output_type": "stream",
     "text": [
      "Original Paragraph: \n",
      "The city unveiled its plan to develop urban parks and recreational facilities. This initiative aims to enhance community well-being by providing spaces for physical activities, relaxation, and social interaction.\n",
      "\n",
      "\n",
      "Generated Summary:  The city unveiled its plan to develop urban parks and recreational facilities . The initiative aims to enhance community well-being by providing spaces for physical activities .\n"
     ]
    }
   ],
   "source": [
    "from transformers import pipeline\n",
    "\n",
    "# Load pre-trained text summarization model\n",
    "generate_summary = pipeline(\"summarization\")\n",
    "\n",
    "# Few-shot examples\n",
    "examples = \"\"\"\n",
    "Summarization examples:\n",
    "1. Original: \"The committee proposed changes to streamline project workflows and improve efficiency across departments. These changes include adopting new software tools and enhancing team communication.\"\n",
    "   Summary: \"Proposed workflow changes aim to boost efficiency.\"\n",
    "2. Original: \"The research paper explored the effects of global warming on marine ecosystems. It highlighted significant risks to coral reefs and emphasized the need for sustainable fishing practices.\"\n",
    "   Summary: \"Global warming threatens marine ecosystems and coral reefs.\"\n",
    "\"\"\"\n",
    "\n",
    "# New text for summarization\n",
    "new_paragraph = \"\"\"\n",
    "The city unveiled its plan to develop urban parks and recreational facilities. This initiative aims to enhance community well-being by providing spaces for physical activities, relaxation, and social interaction.\n",
    "\"\"\"\n",
    "\n",
    "# Generate summary\n",
    "summary = generate_summary(new_paragraph, max_length=50, min_length=25, do_sample=False)\n",
    "\n",
    "# Output the result\n",
    "print(\"Original Paragraph:\", new_paragraph)\n",
    "print(\"\\nGenerated Summary:\", summary[0]['summary_text'])\n"
   ]
  },
  {
   "cell_type": "code",
   "execution_count": 14,
   "id": "e444179d",
   "metadata": {},
   "outputs": [
    {
     "name": "stdout",
     "output_type": "stream",
     "text": [
      "Question: What is the height of the Eiffel Tower?\n",
      "Answer: 324 meters Confidence: 0.99\n"
     ]
    }
   ],
   "source": [
    "qa_pipeline = pipeline(\"question-answering\", model=\"distilbert-base-cased-distilled-squad\")\n",
    "\n",
    "# Context paragraph for the task\n",
    "context_paragraph = \"\"\"\n",
    "The Eiffel Tower, located in Paris, France, is one of the most iconic landmarks in the world. Built in 1889, it stands at a height of 324 meters and attracts millions of visitors annually. The tower was originally constructed as part of the 1889 World's Fair.\n",
    "\"\"\"\n",
    "\n",
    "# New question for the model\n",
    "new_question = \"What is the height of the Eiffel Tower?\"\n",
    "\n",
    "# Generate an answer\n",
    "result = qa_pipeline(question=new_question, context=context_paragraph)\n",
    "\n",
    "# Output the result\n",
    "print(\"Question:\", new_question)\n",
    "print(\"Answer:\", result['answer'], \"Confidence:\", round(result['score'], 2))\n"
   ]
  },
  {
   "cell_type": "code",
   "execution_count": null,
   "id": "4cd4e499",
   "metadata": {},
   "outputs": [],
   "source": []
  }
 ],
 "metadata": {
  "kernelspec": {
   "display_name": "Python 3 (ipykernel)",
   "language": "python",
   "name": "python3"
  },
  "language_info": {
   "codemirror_mode": {
    "name": "ipython",
    "version": 3
   },
   "file_extension": ".py",
   "mimetype": "text/x-python",
   "name": "python",
   "nbconvert_exporter": "python",
   "pygments_lexer": "ipython3",
   "version": "3.11.5"
  }
 },
 "nbformat": 4,
 "nbformat_minor": 5
}
